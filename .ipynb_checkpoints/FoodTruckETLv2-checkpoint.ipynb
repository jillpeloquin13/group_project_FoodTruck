{
 "cells": [
  {
   "cell_type": "code",
   "execution_count": 45,
   "id": "3a2d3771",
   "metadata": {},
   "outputs": [],
   "source": [
    "import pandas as pd\n",
    "import requests"
   ]
  },
  {
   "cell_type": "markdown",
   "id": "e6bea26b",
   "metadata": {},
   "source": [
    "Get the schedule Data for Vancouver, Boston, Nashville"
   ]
  },
  {
   "cell_type": "code",
   "execution_count": 46,
   "id": "ceb2600a",
   "metadata": {},
   "outputs": [
    {
     "data": {
      "text/html": [
       "<div>\n",
       "<style scoped>\n",
       "    .dataframe tbody tr th:only-of-type {\n",
       "        vertical-align: middle;\n",
       "    }\n",
       "\n",
       "    .dataframe tbody tr th {\n",
       "        vertical-align: top;\n",
       "    }\n",
       "\n",
       "    .dataframe thead th {\n",
       "        text-align: right;\n",
       "    }\n",
       "</style>\n",
       "<table border=\"1\" class=\"dataframe\">\n",
       "  <thead>\n",
       "    <tr style=\"text-align: right;\">\n",
       "      <th></th>\n",
       "      <th>metadata</th>\n",
       "      <th>vendors</th>\n",
       "    </tr>\n",
       "  </thead>\n",
       "  <tbody>\n",
       "    <tr>\n",
       "      <th>ads</th>\n",
       "      <td>[{'banner': {'identifier': 'crack-on', 'image_...</td>\n",
       "      <td>NaN</td>\n",
       "    </tr>\n",
       "    <tr>\n",
       "      <th>new</th>\n",
       "      <td>[burgerland-smash-up, fisherman-franks, bang-t...</td>\n",
       "      <td>NaN</td>\n",
       "    </tr>\n",
       "    <tr>\n",
       "      <th>regions</th>\n",
       "      <td>[{'identifier': 'vancouver', 'name': 'Vancouve...</td>\n",
       "      <td>NaN</td>\n",
       "    </tr>\n",
       "    <tr>\n",
       "      <th>arturos-to-go</th>\n",
       "      <td>NaN</td>\n",
       "      <td>{'description_short': 'Authentic, author gourm...</td>\n",
       "    </tr>\n",
       "    <tr>\n",
       "      <th>babas-house</th>\n",
       "      <td>NaN</td>\n",
       "      <td>{'description_short': None, 'identifier': 'bab...</td>\n",
       "    </tr>\n",
       "  </tbody>\n",
       "</table>\n",
       "</div>"
      ],
      "text/plain": [
       "                                                        metadata  \\\n",
       "ads            [{'banner': {'identifier': 'crack-on', 'image_...   \n",
       "new            [burgerland-smash-up, fisherman-franks, bang-t...   \n",
       "regions        [{'identifier': 'vancouver', 'name': 'Vancouve...   \n",
       "arturos-to-go                                                NaN   \n",
       "babas-house                                                  NaN   \n",
       "\n",
       "                                                         vendors  \n",
       "ads                                                          NaN  \n",
       "new                                                          NaN  \n",
       "regions                                                      NaN  \n",
       "arturos-to-go  {'description_short': 'Authentic, author gourm...  \n",
       "babas-house    {'description_short': None, 'identifier': 'bab...  "
      ]
     },
     "execution_count": 46,
     "metadata": {},
     "output_type": "execute_result"
    }
   ],
   "source": [
    "url = 'http://data.streetfoodapp.com/1.1/schedule/vancouver'\n",
    "\n",
    "data =  requests.get(url).json()\n",
    "dfVan = pd.DataFrame.from_dict(data)\n",
    "dfVan.head()"
   ]
  },
  {
   "cell_type": "code",
   "execution_count": 47,
   "id": "ca5bfa97",
   "metadata": {},
   "outputs": [
    {
     "data": {
      "text/html": [
       "<div>\n",
       "<style scoped>\n",
       "    .dataframe tbody tr th:only-of-type {\n",
       "        vertical-align: middle;\n",
       "    }\n",
       "\n",
       "    .dataframe tbody tr th {\n",
       "        vertical-align: top;\n",
       "    }\n",
       "\n",
       "    .dataframe thead th {\n",
       "        text-align: right;\n",
       "    }\n",
       "</style>\n",
       "<table border=\"1\" class=\"dataframe\">\n",
       "  <thead>\n",
       "    <tr style=\"text-align: right;\">\n",
       "      <th></th>\n",
       "      <th>metadata</th>\n",
       "      <th>vendors</th>\n",
       "    </tr>\n",
       "  </thead>\n",
       "  <tbody>\n",
       "    <tr>\n",
       "      <th>ads</th>\n",
       "      <td>[{'banner': {'identifier': 'roxys', 'image_url...</td>\n",
       "      <td>NaN</td>\n",
       "    </tr>\n",
       "    <tr>\n",
       "      <th>new</th>\n",
       "      <td>[vaz-mac-tex-mex, tres-latinas, bon-me-10, bon...</td>\n",
       "      <td>NaN</td>\n",
       "    </tr>\n",
       "    <tr>\n",
       "      <th>regions</th>\n",
       "      <td>[{'identifier': 'boston', 'name': 'Boston', 't...</td>\n",
       "      <td>NaN</td>\n",
       "    </tr>\n",
       "    <tr>\n",
       "      <th>bon-me</th>\n",
       "      <td>NaN</td>\n",
       "      <td>{'description_short': None, 'identifier': 'bon...</td>\n",
       "    </tr>\n",
       "    <tr>\n",
       "      <th>bon-me-10</th>\n",
       "      <td>NaN</td>\n",
       "      <td>{'description_short': None, 'identifier': 'bon...</td>\n",
       "    </tr>\n",
       "  </tbody>\n",
       "</table>\n",
       "</div>"
      ],
      "text/plain": [
       "                                                    metadata  \\\n",
       "ads        [{'banner': {'identifier': 'roxys', 'image_url...   \n",
       "new        [vaz-mac-tex-mex, tres-latinas, bon-me-10, bon...   \n",
       "regions    [{'identifier': 'boston', 'name': 'Boston', 't...   \n",
       "bon-me                                                   NaN   \n",
       "bon-me-10                                                NaN   \n",
       "\n",
       "                                                     vendors  \n",
       "ads                                                      NaN  \n",
       "new                                                      NaN  \n",
       "regions                                                  NaN  \n",
       "bon-me     {'description_short': None, 'identifier': 'bon...  \n",
       "bon-me-10  {'description_short': None, 'identifier': 'bon...  "
      ]
     },
     "execution_count": 47,
     "metadata": {},
     "output_type": "execute_result"
    }
   ],
   "source": [
    "url = 'http://data.streetfoodapp.com/1.1/schedule/boston'\n",
    "\n",
    "data=  requests.get(url).json()\n",
    "dfBos = pd.DataFrame.from_dict(data)\n",
    "dfBos.head()"
   ]
  },
  {
   "cell_type": "code",
   "execution_count": 48,
   "id": "887a87c5",
   "metadata": {
    "scrolled": false
   },
   "outputs": [
    {
     "data": {
      "text/html": [
       "<div>\n",
       "<style scoped>\n",
       "    .dataframe tbody tr th:only-of-type {\n",
       "        vertical-align: middle;\n",
       "    }\n",
       "\n",
       "    .dataframe tbody tr th {\n",
       "        vertical-align: top;\n",
       "    }\n",
       "\n",
       "    .dataframe thead th {\n",
       "        text-align: right;\n",
       "    }\n",
       "</style>\n",
       "<table border=\"1\" class=\"dataframe\">\n",
       "  <thead>\n",
       "    <tr style=\"text-align: right;\">\n",
       "      <th></th>\n",
       "      <th>metadata</th>\n",
       "      <th>vendors</th>\n",
       "    </tr>\n",
       "  </thead>\n",
       "  <tbody>\n",
       "    <tr>\n",
       "      <th>ads</th>\n",
       "      <td>[{'banner': {'identifier': 'momma-p', 'image_u...</td>\n",
       "      <td>NaN</td>\n",
       "    </tr>\n",
       "    <tr>\n",
       "      <th>new</th>\n",
       "      <td>[hyppo-pops, lugos-burrito, old-skool, lasang-...</td>\n",
       "      <td>NaN</td>\n",
       "    </tr>\n",
       "    <tr>\n",
       "      <th>regions</th>\n",
       "      <td>[{'identifier': 'tallahassee', 'name': 'Tallah...</td>\n",
       "      <td>NaN</td>\n",
       "    </tr>\n",
       "    <tr>\n",
       "      <th>big-easy-snowballs</th>\n",
       "      <td>NaN</td>\n",
       "      <td>{'description_short': 'Traditional New Orleans...</td>\n",
       "    </tr>\n",
       "    <tr>\n",
       "      <th>el-criollo</th>\n",
       "      <td>NaN</td>\n",
       "      <td>{'description_short': 'Authentic homemade Puer...</td>\n",
       "    </tr>\n",
       "  </tbody>\n",
       "</table>\n",
       "</div>"
      ],
      "text/plain": [
       "                                                             metadata  \\\n",
       "ads                 [{'banner': {'identifier': 'momma-p', 'image_u...   \n",
       "new                 [hyppo-pops, lugos-burrito, old-skool, lasang-...   \n",
       "regions             [{'identifier': 'tallahassee', 'name': 'Tallah...   \n",
       "big-easy-snowballs                                                NaN   \n",
       "el-criollo                                                        NaN   \n",
       "\n",
       "                                                              vendors  \n",
       "ads                                                               NaN  \n",
       "new                                                               NaN  \n",
       "regions                                                           NaN  \n",
       "big-easy-snowballs  {'description_short': 'Traditional New Orleans...  \n",
       "el-criollo          {'description_short': 'Authentic homemade Puer...  "
      ]
     },
     "execution_count": 48,
     "metadata": {},
     "output_type": "execute_result"
    }
   ],
   "source": [
    "url = 'http://data.streetfoodapp.com/1.1/schedule/tallahassee'\n",
    "\n",
    "data=  requests.get(url).json()\n",
    "dfTalla = pd.DataFrame.from_dict(data)\n",
    "dfTalla.head()"
   ]
  }
 ],
 "metadata": {
  "kernelspec": {
   "display_name": "Python 3",
   "language": "python",
   "name": "python3"
  },
  "language_info": {
   "codemirror_mode": {
    "name": "ipython",
    "version": 3
   },
   "file_extension": ".py",
   "mimetype": "text/x-python",
   "name": "python",
   "nbconvert_exporter": "python",
   "pygments_lexer": "ipython3",
   "version": "3.8.8"
  }
 },
 "nbformat": 4,
 "nbformat_minor": 5
}
